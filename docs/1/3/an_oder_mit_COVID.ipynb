{
 "cells": [
  {
   "cell_type": "markdown",
   "metadata": {
    "collapsed": true,
    "pycharm": {
     "name": "#%% md\n"
    }
   },
   "source": [
    "# 1.3 An oder mit CoViD-19 verstorben\n",
    "\n",
    "#### Kritik: Eine eingetragene Begleitkrankheit von CoViD-19 (*U07* im ICD-Code) wird meist als hauptsächliche Todesursache angführt und führt somit zu einer Verzerrung der Statistik.\n"
   ]
  },
  {
   "cell_type": "markdown",
   "source": [
    "Laut Statistik Austria sind im Jahr 2020 6477 (oder 7,16 %) Verstorbene unter dem ICD-Code CoViD-19 - U07 eingetragen. Die Zahlweise unterscheidet sich laut den offiziellen Angaben von der Zählung anderer Krankheiten. So werden alle Verstorbene mit einer CoViD-19 Diagnose jünger als 28 Tage, mit Ausnahme von Unfällen, nur als CoViD-19-U07 gezählt. So wird also ein Mensch, der nach einem Schlaganfall gesundheitlich stark eingeschränkt ist und stirbt, zusätzlich jedoch einen positiven CoViD Test innerhalb der vorangegangenen 28 hatte, als CoViD-Verstorbener gezählt. Natürlich verzerrt diese Zählweise sehr stark die Anzahl der an CoViD selbst, sowie an Folgeerkrankungen gestorbenen. Die exakte Zählweise ist hier  in dem ausgewiesenen roten Kasten nachzulesen."
   ],
   "metadata": {
    "collapsed": false
   }
  },
  {
   "cell_type": "markdown",
   "source": [
    "Eine zentrale Frage bei dieser Zählweise ist natürlich, ob die Menschen auf ohne der Begleitkrankheit CoViD-19 gestorben wären. Dazu ist die Folgende Grafik  interessant. Diese zeigt in den Gruppen „mit COVID-19 Grundleiden“ und „ohne COVID-19 Grundleiden“ ausgewählte Begleiterkrankungen. So hatten etwa 27,8 % der Verstorbenen Hypertonie und CoViD-19, und 28,4 % der Verstorbenen Hypertonie und kein CoViD-19. Aus den Verhältnissen kann etwa interpretiert werden, dass Diabetes mellitus in Kombination mit CoViD-19 die Sterbewahrscheinlichkeit erhöht. Zusätzlich sieht man auch, dass bei Krebs der Balken für „ohne COVID-19 Grundleiden“ signifikant höher ist. Das könnte den Grund haben, dass sich Krebspatienten im fortgeschrittenen Stadium ihrer Gefahr sehr bewusst sind und somit sich und deren Angehörige besonders gut gegen eine Ansteckung schützen.\n",
    "\n",
    "![Grundleiden](Grundleiden.png)\n"
   ],
   "metadata": {
    "collapsed": false
   }
  },
  {
   "cell_type": "markdown",
   "source": [
    "Zusätzlich kann auch interpretiert werden, dass die Wahrscheinlichkeiten bei dem Großteil der Krankheiten vergleichbar sind. Menschen, die an einer solchen Krankheit sterben und zusätzlich an CoViD leiden, wären also sehr wahrscheinlich auch ohne CoViD gestorben. Die Prävalenz von Corona erhöht also nicht die Morbidität der meisten gezeigten Krankheiten. CoViD-19 sollte also eher als Begleitkrankheit gezählt werden und nicht als Todesursache.\n"
   ],
   "metadata": {
    "collapsed": false
   }
  },
  {
   "cell_type": "markdown",
   "source": [
    "## Quellen:\n",
    "\n",
    " - https://www.statistik.at/wcm/idc/groups/b/documents/webobj/mdaw/mtiz/~edisp/123855.png\n",
    " - https://www.statistik.at/web_de/presse/125475.html\n",
    " - https://www.gesundheit.gv.at/krankheiten/immunsystem/coronavirus-covid-19/symptome-verlauf\n",
    " - https://swprs.org/studies-on-covid-19-lethality/\n",
    "\n"
   ],
   "metadata": {
    "collapsed": false
   }
  }
 ],
 "metadata": {
  "kernelspec": {
   "display_name": "Python 3",
   "language": "python",
   "name": "python3"
  },
  "language_info": {
   "codemirror_mode": {
    "name": "ipython",
    "version": 2
   },
   "file_extension": ".py",
   "mimetype": "text/x-python",
   "name": "python",
   "nbconvert_exporter": "python",
   "pygments_lexer": "ipython2",
   "version": "2.7.6"
  }
 },
 "nbformat": 4,
 "nbformat_minor": 0
}