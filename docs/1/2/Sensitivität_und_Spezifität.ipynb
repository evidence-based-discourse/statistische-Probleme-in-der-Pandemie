{
 "cells": [
  {
   "cell_type": "markdown",
   "source": [
    "# 1.2 Sensitivität und Spezifität\n",
    "\n",
    "#### Kritik: Der Anteil der falsch-positiven Tests unter allen positiven Tests wird bei Entscheidungen über Maßnahmen unzureichend berücksichtigt.\n",
    "\n",
    "\n",
    "Kein medizinischer Test gilt als $100 \\%$ sicher. Wenn eine Krankheit festgestellt werden soll,\n",
    "muss in Kauf genommen werden, dass nicht alle tatsächlichen Kranken als krank getestet werden\n",
    "und nicht alle tatsächlich Gesunden als gesund.\n",
    "Wenn jemand als krank klassifiziert wird, aber in Wirklichkeit gesund ist,\n",
    "spricht man von einem falsch-positivem Testergebnis oder kurz von einem Falsch-positivem.\n",
    "Die Sensitivität eines Tests beschreibt das Verhältnis aller richtig klassifizierten Kranken.\n",
    "Umgekehrt, wer als gesund klassifiziert wurde, aber in Wirklichkeit krank ist, gilt als Falsch-Negativer.\n",
    "Die Spezifität eines Tests beschreibt dabei das Verhältnis aller richtig klassifizierten Gesunden.\n"
   ],
   "metadata": {
    "collapsed": false,
    "pycharm": {
     "name": "#%% md\n"
    }
   }
  },
  {
   "cell_type": "markdown",
   "source": [
    "Die beiden Werte sind voneinander abhängig.\n",
    "Je näher der eine Wert gegen $100\\%$ geht, umso weiter ist der andere von $100\\%$ entfernt\n",
    "Bei statistischen Tests kann also nie die Sensitivität und Spezifität gleichzeitig ideal –\n",
    "also $100 \\%$ - sein.\n",
    "In der Praxis wird praktisch immer eine Abwägung gemacht zwischen den beiden Größen.\n",
    "Diese Abwägung kann in einer Kosten-Nutzen-Rechnung gemacht werden, wobei der gesamte erwartete\n",
    "Schaden aufgrund von falschen Tests minimiert werden muss.\n",
    "Aus dieser ergibt sich üblicherweise, dass die Sensitivität größer als die Spezifität sein soll,\n",
    "da es wichtiger ist wirklich Kranke zuverlässig zu finden als Menschen durch eine falsche\n",
    "Diagnose unnötig in Panik zu versetzen.\n",
    "Diese Balance macht insbesondere bei der Testung von Menschen mit Symptomen Sinn,\n",
    "wenn diese für die zu testende Krankheit typisch sind.\n",
    "Um eine gute Balance in einer Kosten-Nutzen-Rechnung zu finden ist es nötig,\n",
    "die tatsächliche Auftrittswahrscheinlichkeit der Krankheit (Prävalenz) ungefähr zu kennen.\n"
   ],
   "metadata": {
    "collapsed": false
   }
  },
  {
   "cell_type": "markdown",
   "source": [
    "Für Massentests oder bei Tests von Menschen ohne Symptomen muss die Balance zwischen\n",
    "Sensitivität und Spezifität somit anders gewählt werden als wenn ausschließlich Menschen mit\n",
    "Symptomen getestet werden.\n",
    "Da bei symptomlosen Menschen die Prävalenz einer Krankheit, zumindest im Fall von CoViD-19,\n",
    "eher gering ist, würde der Anteil der falsch-positiven (FPR - false-positive rate) die der\n",
    "richtig-positiven (TPR - true-positive rate) bei weitem übersteigen.\n"
   ],
   "metadata": {
    "collapsed": false
   }
  },
  {
   "cell_type": "markdown",
   "source": [
    "Dazu ein kleines Rechenbeispiel:\n",
    "Wir gehen davon aus, dass $0.1\\%$ der Getesteten tatsächlich Corona hat\n",
    "(das ist bei den derzeitigen Massentests plausibel. Wenn der Wert höher wäre wie z.B. $1\\%$,\n",
    "wären seit Ausbruch der Pandemie bereits sehr viele Menschen immun\n",
    "und es wären somit keine Massentests mehr notwendig).\n",
    "Die Werte für die Sensitivität und Spezifität sind beide $98\\%$.\n",
    "Dann ergeben sich bei $100,000$ Tests in einer zufällig gezogenen Stichprobe\n",
    "(Vorsicht, der Punkt wird als Dezimal-Trennzeichen verwendet):\n",
    "\n",
    "$$n_\\text{wahr-negativ}=100,000*0.999*0.98=97,902$$\n",
    "$$n_\\text{wahr-positiv}=100,000*0.001*0.98=98$$\n",
    "$$n_\\text{falsch-negativ}=100,000*0.001*0.02=2$$\n",
    "$$n_\\text{falsch-positiv}=100,000*0.999*0.02=1,998$$\n",
    "\n"
   ],
   "metadata": {
    "collapsed": false
   }
  },
  {
   "cell_type": "markdown",
   "source": [
    "Man sieht also, dass mit Abstand die meisten Menschen gesund sind und korrekt als negativ\n",
    "getestet wurden. Von den tatsächlich $100$ Kranken wurden $98$, also alle bis auf $2$ gefunden.\n",
    "Diese $2$ Kranken wurden fälschlicherweise als gesund klassifiziert.\n",
    "Besonders interessant ist, dass $1998$, also fast $2000$ Menschen zwar gesund sind,\n",
    "aber irrtümlicherweise positiv getestet wurden.\n",
    "Wenn man das ins Verhältnis zu allen Positiven setzt erkennt man,\n",
    "dass von allen positiv getesteten $1998/(1998+98)=95,3\\%$ in Wirklichkeit gesund sind.\n",
    "Es lässt sich somit schließen, dass ein Test mit einer Spezifität von etwa $98\\%$\n",
    " zu sehr vielen Falsch-Positiven führt und somit für Massentests wenig geeignet ist."
   ],
   "metadata": {
    "collapsed": false
   }
  },
  {
   "cell_type": "markdown",
   "source": [
    "Das Problem der nicht berücksichtigten Falsch-Positiven ist besonders in Kombination mit\n",
    "[Punkt 1.1 (Einer hohen Anzahl an Tests)](../1/AnzahlDerTests.md), sowie bei Koppelung\n",
    " der Inzidenzwerte and Maßnahmen ein Problem.\n",
    "In Österreich werden derzeit (April 2021) laut [ourworldindata.org](https://ourworldindata.org/explorers/coronavirus-data-explorer?zoomToSelection=true&time=2020-03-01..latest&pickerSort=asc&pickerMetric=location&hideControls=true&Metric=Tests&Interval=7-day+rolling+average&Relative+to+Population=true&Align+outbreaks=false&country=NCL~PNG~SWE~AUT~DEU~SWE~USA~Europe)\n",
    " etwa $32.23$ Tests je $1000$ Einwohner je Tag durchgeführt.\n",
    "Nehmen wir eine exemplarische Region mit $100,000$ Einwohnern an.\n",
    "Die absolute Anzahl der Tests je Woche sind hier folglich\n",
    "$100,000 \\text{ Einwohner} \\cdot \\frac{32.23 \\text{ Tests}}{1000 \\text{ Einwohner Tag}} \\cdot 7\\frac{\\text{Tage}}{\\text{Woche}}=22561\\text{ Tests}/\\text{Woche}$.\n",
    "Also es werden von $100$ Einwohnern etwa $22.5$ Tests je Woche durchgeführt.\n",
    "Bei einer wahren Spezifität von $0.5\\%$, was sogar NUR einem Viertel der vom Hersteller\n",
    "angegebenen Obergrenze für die Spezifität ist, würde das selbst bei einer CoViD-19\n",
    "Prävalenz von $0$ einer $112.8$ falsch-positive Tests je Woche führen.\n",
    "Somit kann ein Inzidenzwert von unter $100$ statistisch kaum erreicht werden,\n",
    "wenn (1) der Test nicht für Massentests geeignet ist (Spezifität $< 100\\%$) und\n",
    "(2) sehr viele Tests durchgeführt werden."
   ],
   "metadata": {
    "collapsed": false
   }
  },
  {
   "cell_type": "markdown",
   "source": [
    "## Weiterführende Inhalte:\n",
    "\n",
    " - Video (englisch) von **Grant Sanderson** über das zugrundeliegende mathematische Theorem - Bayes Theorem.\n",
    " [![3b1b](http://i3.ytimg.com/vi/HZGCoVF3YvM/hqdefault.jpg)](https://www.youtube.com/watch?v=HZGCoVF3YvM&ab_channel=3Blue1Brown)\n",
    "\n",
    " - Video (deutsch) von **Daniel Jung** über das zugrundeliegende mathematische Theorem - Bayes Theorem.\n",
    " [![3b1b](http://i3.ytimg.com/vi/wUDxQFbXqjA/hqdefault.jpg)](https://www.youtube.com/watch?v=wUDxQFbXqjA&ab_channel=MathebyDanielJung)\n"
   ],
   "metadata": {
    "collapsed": false
   }
  },
  {
   "cell_type": "markdown",
   "source": [
    "[Nächster Punkt: Definition von \"an oder mit CoViD-19\" verstorben](docs/1/3/an_oder_mit_covid.md)\n"
   ],
   "metadata": {
    "collapsed": false
   }
  }
 ],
 "metadata": {
  "kernelspec": {
   "display_name": "Python 3",
   "language": "python",
   "name": "python3"
  },
  "language_info": {
   "codemirror_mode": {
    "name": "ipython",
    "version": 2
   },
   "file_extension": ".py",
   "mimetype": "text/x-python",
   "name": "python",
   "nbconvert_exporter": "python",
   "pygments_lexer": "ipython2",
   "version": "2.7.6"
  }
 },
 "nbformat": 4,
 "nbformat_minor": 0
}